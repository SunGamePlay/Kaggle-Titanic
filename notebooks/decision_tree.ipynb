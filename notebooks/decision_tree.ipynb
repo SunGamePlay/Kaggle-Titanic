{
 "cells": [
  {
   "cell_type": "code",
   "id": "initial_id",
   "metadata": {
    "collapsed": true,
    "ExecuteTime": {
     "end_time": "2025-06-02T11:58:11.215247Z",
     "start_time": "2025-06-02T11:58:09.957487Z"
    }
   },
   "source": [
    "import pandas as pd\n",
    "import numpy as np\n",
    "from sklearn.tree import DecisionTreeClassifier\n",
    "from sklearn.model_selection import cross_val_score"
   ],
   "outputs": [],
   "execution_count": 1
  },
  {
   "metadata": {
    "ExecuteTime": {
     "end_time": "2025-06-02T11:58:12.000468Z",
     "start_time": "2025-06-02T11:58:11.994954Z"
    }
   },
   "cell_type": "code",
   "source": [
    "x_train = pd.read_pickle(\"../metadata/x_train.pkl\")\n",
    "y_train = np.ravel(pd.read_pickle(\"../metadata/y_train.pkl\"))\n",
    "x_test = pd.read_pickle(\"../metadata/x_test.pkl\")"
   ],
   "id": "50e8bd3cdba4769f",
   "outputs": [],
   "execution_count": 2
  },
  {
   "metadata": {
    "ExecuteTime": {
     "end_time": "2025-06-02T11:58:13.026191Z",
     "start_time": "2025-06-02T11:58:12.994100Z"
    }
   },
   "cell_type": "code",
   "source": [
    "model = DecisionTreeClassifier(max_depth = 5)\n",
    "model.fit(x_train, y_train)\n",
    "scores = cross_val_score(model, x_train, y_train)\n",
    "print(f\"Accuracy: {scores.mean():.4f} (+/- {scores.std() * 1.96:.4f})\")"
   ],
   "id": "fee71ee3c391a49c",
   "outputs": [
    {
     "name": "stdout",
     "output_type": "stream",
     "text": [
      "Accuracy: 0.8193 (+/- 0.0486)\n"
     ]
    }
   ],
   "execution_count": 3
  },
  {
   "metadata": {
    "ExecuteTime": {
     "end_time": "2025-06-02T11:58:14.667600Z",
     "start_time": "2025-06-02T11:58:14.655036Z"
    }
   },
   "cell_type": "code",
   "source": [
    "y_test = model.predict(x_test)\n",
    "submission = pd.DataFrame({\n",
    "    \"PassengerId\": range(len(x_train) + 1, len(x_train) + len(x_test) + 1, 1),\n",
    "    \"Survived\": y_test\n",
    "})\n",
    "submission.to_csv(\"../outputs/submission.csv\", index = False)"
   ],
   "id": "3a0bcaa0afbfa384",
   "outputs": [],
   "execution_count": 4
  }
 ],
 "metadata": {
  "kernelspec": {
   "display_name": "Python 3",
   "language": "python",
   "name": "python3"
  },
  "language_info": {
   "codemirror_mode": {
    "name": "ipython",
    "version": 2
   },
   "file_extension": ".py",
   "mimetype": "text/x-python",
   "name": "python",
   "nbconvert_exporter": "python",
   "pygments_lexer": "ipython2",
   "version": "2.7.6"
  }
 },
 "nbformat": 4,
 "nbformat_minor": 5
}
