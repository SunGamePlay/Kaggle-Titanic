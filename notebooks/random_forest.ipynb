{
 "cells": [
  {
   "cell_type": "code",
   "id": "initial_id",
   "metadata": {
    "collapsed": true,
    "ExecuteTime": {
     "end_time": "2025-06-04T10:23:01.779548Z",
     "start_time": "2025-06-04T10:23:01.771532Z"
    }
   },
   "source": [
    "import pandas as pd\n",
    "import numpy as np\n",
    "from sklearn.ensemble import RandomForestClassifier\n",
    "from sklearn.model_selection import cross_val_score"
   ],
   "outputs": [],
   "execution_count": 5
  },
  {
   "metadata": {
    "ExecuteTime": {
     "end_time": "2025-06-04T11:18:56.935872Z",
     "start_time": "2025-06-04T11:18:56.911796Z"
    }
   },
   "cell_type": "code",
   "source": [
    "x_train = pd.read_pickle(\"../metadata/x_train.pkl\")\n",
    "y_train = np.ravel(pd.read_pickle(\"../metadata/y_train.pkl\"))\n",
    "x_test = pd.read_pickle(\"../metadata/x_test.pkl\")"
   ],
   "id": "544ec26ab9e88a3d",
   "outputs": [],
   "execution_count": 106
  },
  {
   "metadata": {
    "ExecuteTime": {
     "end_time": "2025-06-04T11:18:59.674738Z",
     "start_time": "2025-06-04T11:18:57.715172Z"
    }
   },
   "cell_type": "code",
   "source": [
    "model = RandomForestClassifier(n_estimators = 250, min_samples_split = 20, random_state = 42, oob_score = True)\n",
    "model.fit(x_train, y_train)\n",
    "scores = cross_val_score(model, x_train, y_train )\n",
    "print(f\"Accuracy: {scores.mean():.5f} (+/- {scores.std() * 1.96:.5f})\")\n",
    "print(f\"oob score :{model.oob_score_:.5f}\")"
   ],
   "id": "371a370a9a6bce6f",
   "outputs": [
    {
     "name": "stdout",
     "output_type": "stream",
     "text": [
      "Accuracy: 0.78115 (+/- 0.03251)\n",
      "oob score :0.78676\n"
     ]
    }
   ],
   "execution_count": 107
  },
  {
   "metadata": {
    "ExecuteTime": {
     "end_time": "2025-06-04T11:13:40.019446Z",
     "start_time": "2025-06-04T11:13:39.984305Z"
    }
   },
   "cell_type": "code",
   "source": [
    "y_test = model.predict(x_test)\n",
    "submission = pd.DataFrame({\n",
    "    \"PassengerId\": range(len(x_train) + 1, len(x_train) + len(x_test) + 1, 1),\n",
    "    \"Survived\": y_test\n",
    "})\n",
    "submission.to_csv(\"../outputs/submission.csv\", index = False)"
   ],
   "id": "d51041f83e76b9df",
   "outputs": [],
   "execution_count": 93
  }
 ],
 "metadata": {
  "kernelspec": {
   "display_name": "Python 3",
   "language": "python",
   "name": "python3"
  },
  "language_info": {
   "codemirror_mode": {
    "name": "ipython",
    "version": 2
   },
   "file_extension": ".py",
   "mimetype": "text/x-python",
   "name": "python",
   "nbconvert_exporter": "python",
   "pygments_lexer": "ipython2",
   "version": "2.7.6"
  }
 },
 "nbformat": 4,
 "nbformat_minor": 5
}
