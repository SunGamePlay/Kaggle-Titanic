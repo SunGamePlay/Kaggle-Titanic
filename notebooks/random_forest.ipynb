{
 "cells": [
  {
   "cell_type": "code",
   "id": "initial_id",
   "metadata": {
    "collapsed": true,
    "ExecuteTime": {
     "end_time": "2025-06-02T12:02:39.153940Z",
     "start_time": "2025-06-02T12:02:37.921351Z"
    }
   },
   "source": [
    "import pandas as pd\n",
    "import numpy as np\n",
    "from sklearn.ensemble import RandomForestClassifier\n",
    "from sklearn.model_selection import cross_val_score"
   ],
   "outputs": [],
   "execution_count": 1
  },
  {
   "metadata": {
    "ExecuteTime": {
     "end_time": "2025-06-02T12:02:42.661229Z",
     "start_time": "2025-06-02T12:02:42.642502Z"
    }
   },
   "cell_type": "code",
   "source": [
    "x_train = pd.read_pickle(\"../metadata/x_train.pkl\")\n",
    "y_train = np.ravel(pd.read_pickle(\"../metadata/y_train.pkl\"))\n",
    "x_test = pd.read_pickle(\"../metadata/x_test.pkl\")"
   ],
   "id": "544ec26ab9e88a3d",
   "outputs": [],
   "execution_count": 2
  },
  {
   "metadata": {
    "ExecuteTime": {
     "end_time": "2025-06-02T12:02:44.481823Z",
     "start_time": "2025-06-02T12:02:43.769584Z"
    }
   },
   "cell_type": "code",
   "source": [
    "model = RandomForestClassifier(max_depth=5, n_estimators=100)\n",
    "model.fit(x_train, y_train)\n",
    "scores = cross_val_score(model, x_train, y_train)\n",
    "print(f\"Accuracy: {scores.mean():.4f} (+/- {scores.std() * 1.96:.4f})\")"
   ],
   "id": "8b35bd1c7045d098",
   "outputs": [
    {
     "name": "stdout",
     "output_type": "stream",
     "text": [
      "Accuracy: 0.8305 (+/- 0.0368)\n"
     ]
    }
   ],
   "execution_count": 3
  },
  {
   "metadata": {
    "ExecuteTime": {
     "end_time": "2025-06-02T12:02:46.092038Z",
     "start_time": "2025-06-02T12:02:46.065978Z"
    }
   },
   "cell_type": "code",
   "source": [
    "y_test = model.predict(x_test)\n",
    "submission = pd.DataFrame({\n",
    "    \"PassengerId\": range(len(x_train) + 1, len(x_train) + len(x_test) + 1, 1),\n",
    "    \"Survived\": y_test\n",
    "})\n",
    "submission.to_csv(\"../outputs/submission.csv\", index = False)"
   ],
   "id": "5e89a6df5ffa30ae",
   "outputs": [],
   "execution_count": 4
  }
 ],
 "metadata": {
  "kernelspec": {
   "display_name": "Python 3",
   "language": "python",
   "name": "python3"
  },
  "language_info": {
   "codemirror_mode": {
    "name": "ipython",
    "version": 2
   },
   "file_extension": ".py",
   "mimetype": "text/x-python",
   "name": "python",
   "nbconvert_exporter": "python",
   "pygments_lexer": "ipython2",
   "version": "2.7.6"
  }
 },
 "nbformat": 4,
 "nbformat_minor": 5
}
