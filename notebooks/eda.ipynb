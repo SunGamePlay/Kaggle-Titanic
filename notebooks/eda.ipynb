{
 "cells": [
  {
   "metadata": {},
   "cell_type": "markdown",
   "source": "# Exploratory data analysis",
   "id": "94e36e6aec97b82f"
  },
  {
   "cell_type": "code",
   "id": "initial_id",
   "metadata": {
    "collapsed": true,
    "ExecuteTime": {
     "end_time": "2025-06-01T17:16:56.542245Z",
     "start_time": "2025-06-01T17:16:55.969557Z"
    }
   },
   "source": [
    "# imports\n",
    "import pandas as pd\n",
    "import numpy as np\n",
    "import matplotlib.pyplot as plt\n",
    "import seaborn as sns\n",
    "from jupyterlab.semver import comparatorTrimReplace"
   ],
   "outputs": [],
   "execution_count": 59
  },
  {
   "metadata": {
    "ExecuteTime": {
     "end_time": "2025-06-01T17:16:56.558301Z",
     "start_time": "2025-06-01T17:16:56.546764Z"
    }
   },
   "cell_type": "code",
   "source": [
    "# plot style\n",
    "plt.style.use(\"ggplot\")\n",
    "sns.set_palette(\"muted\")"
   ],
   "id": "eeae6ae95ce94c50",
   "outputs": [],
   "execution_count": 60
  },
  {
   "metadata": {
    "ExecuteTime": {
     "end_time": "2025-06-01T17:16:56.589901Z",
     "start_time": "2025-06-01T17:16:56.574838Z"
    }
   },
   "cell_type": "code",
   "source": [
    "# Load the data\n",
    "df = pd.read_csv(\"../data/train.csv\")"
   ],
   "id": "c4b3a111336627f9",
   "outputs": [],
   "execution_count": 61
  },
  {
   "metadata": {
    "ExecuteTime": {
     "end_time": "2025-06-01T17:16:56.620968Z",
     "start_time": "2025-06-01T17:16:56.606438Z"
    }
   },
   "cell_type": "code",
   "source": "df.shape",
   "id": "1415a9b3cf357809",
   "outputs": [
    {
     "data": {
      "text/plain": [
       "(891, 12)"
      ]
     },
     "execution_count": 62,
     "metadata": {},
     "output_type": "execute_result"
    }
   ],
   "execution_count": 62
  },
  {
   "metadata": {
    "ExecuteTime": {
     "end_time": "2025-06-01T17:16:56.652554Z",
     "start_time": "2025-06-01T17:16:56.637517Z"
    }
   },
   "cell_type": "code",
   "source": "df.columns.tolist()",
   "id": "1bde6e47a9ec5275",
   "outputs": [
    {
     "data": {
      "text/plain": [
       "['PassengerId',\n",
       " 'Survived',\n",
       " 'Pclass',\n",
       " 'Name',\n",
       " 'Sex',\n",
       " 'Age',\n",
       " 'SibSp',\n",
       " 'Parch',\n",
       " 'Ticket',\n",
       " 'Fare',\n",
       " 'Cabin',\n",
       " 'Embarked']"
      ]
     },
     "execution_count": 63,
     "metadata": {},
     "output_type": "execute_result"
    }
   ],
   "execution_count": 63
  },
  {
   "metadata": {
    "ExecuteTime": {
     "end_time": "2025-06-01T17:16:56.684646Z",
     "start_time": "2025-06-01T17:16:56.670098Z"
    }
   },
   "cell_type": "code",
   "source": "df.dtypes",
   "id": "56f1ddda26cf1a09",
   "outputs": [
    {
     "data": {
      "text/plain": [
       "PassengerId      int64\n",
       "Survived         int64\n",
       "Pclass           int64\n",
       "Name            object\n",
       "Sex             object\n",
       "Age            float64\n",
       "SibSp            int64\n",
       "Parch            int64\n",
       "Ticket          object\n",
       "Fare           float64\n",
       "Cabin           object\n",
       "Embarked        object\n",
       "dtype: object"
      ]
     },
     "execution_count": 64,
     "metadata": {},
     "output_type": "execute_result"
    }
   ],
   "execution_count": 64
  },
  {
   "metadata": {
    "ExecuteTime": {
     "end_time": "2025-06-01T17:16:56.762309Z",
     "start_time": "2025-06-01T17:16:56.746777Z"
    }
   },
   "cell_type": "code",
   "source": "df.isnull().sum()",
   "id": "eca2bc57d05b38f3",
   "outputs": [
    {
     "data": {
      "text/plain": [
       "PassengerId      0\n",
       "Survived         0\n",
       "Pclass           0\n",
       "Name             0\n",
       "Sex              0\n",
       "Age            177\n",
       "SibSp            0\n",
       "Parch            0\n",
       "Ticket           0\n",
       "Fare             0\n",
       "Cabin          687\n",
       "Embarked         2\n",
       "dtype: int64"
      ]
     },
     "execution_count": 65,
     "metadata": {},
     "output_type": "execute_result"
    }
   ],
   "execution_count": 65
  },
  {
   "metadata": {},
   "cell_type": "markdown",
   "source": "## Total survival count",
   "id": "c41afbb7e393c291"
  },
  {
   "metadata": {
    "ExecuteTime": {
     "end_time": "2025-06-01T17:16:56.996511Z",
     "start_time": "2025-06-01T17:16:56.872659Z"
    }
   },
   "cell_type": "code",
   "source": [
    "plt.figure(figsize = (12.8, 7.2))\n",
    "sns.countplot(x = \"Survived\", data = df)\n",
    "plt.title(\"Survived?\", fontsize = 24)\n",
    "plt.xticks(ticks = [0, 1], labels = [\"No\", \"Yes\"], fontsize = 16)\n",
    "plt.xlabel(\"\")\n",
    "plt.ylabel(\"Count\", fontsize = 16)\n",
    "plt.savefig(\"../outputs/total-survival.png\")\n",
    "plt.close()"
   ],
   "id": "e3436dfe8f634faf",
   "outputs": [],
   "execution_count": 66
  },
  {
   "metadata": {},
   "cell_type": "markdown",
   "source": "![Total Survived Count](../outputs/total-survival.png)",
   "id": "8e352f663051a31c"
  },
  {
   "metadata": {},
   "cell_type": "markdown",
   "source": "## Survived rate by Ticket class",
   "id": "5e8adea7f247054"
  },
  {
   "metadata": {
    "ExecuteTime": {
     "end_time": "2025-06-01T17:16:57.201069Z",
     "start_time": "2025-06-01T17:16:57.045654Z"
    }
   },
   "cell_type": "code",
   "source": [
    "plt.figure(figsize = (12.8, 7.2))\n",
    "sns.barplot(x = \"Pclass\", y = \"Survived\", data = df)\n",
    "plt.title(\"Survived rate by Ticket class\", fontsize = 24)\n",
    "plt.xlabel(\"Ticket class\", fontsize = 16)\n",
    "plt.xticks(ticks = [0, 1, 2], labels = [\"1st\", \"2nd\", \"3rd\"], fontsize = 16)\n",
    "plt.ylabel(\"Survived rate\", fontsize = 16)\n",
    "plt.ylim(0, 1)\n",
    "plt.savefig(\"../outputs/survived-rate-by-ticket-class.png\")\n",
    "plt.close()"
   ],
   "id": "5238c93ad56857f0",
   "outputs": [],
   "execution_count": 67
  },
  {
   "metadata": {},
   "cell_type": "markdown",
   "source": "![Survived-rate-by-ticket-class](../outputs/survived-rate-by-ticket-class.png)",
   "id": "7fd8913614b1e272"
  },
  {
   "metadata": {},
   "cell_type": "markdown",
   "source": "## Survived rate by gender",
   "id": "61a185c7a4a2df57"
  },
  {
   "metadata": {
    "ExecuteTime": {
     "end_time": "2025-06-01T17:16:57.358444Z",
     "start_time": "2025-06-01T17:16:57.204587Z"
    }
   },
   "cell_type": "code",
   "source": [
    "plt.figure(figsize = (12.8, 7.2))\n",
    "sns.barplot(x = \"Sex\", y = \"Survived\", data = df)\n",
    "plt.title(\"Survived rate by gender\", fontsize = 24)\n",
    "plt.xlabel(\"Gender\", fontsize = 16)\n",
    "plt.ylabel(\"Survived rate\", fontsize = 16)\n",
    "plt.ylim(0, 1)\n",
    "plt.xticks(fontsize = 16)\n",
    "plt.savefig(\"../outputs/survived-rate-by-gender.png\")\n",
    "plt.close()"
   ],
   "id": "e6ce6b8b14f3d0f2",
   "outputs": [],
   "execution_count": 68
  },
  {
   "metadata": {},
   "cell_type": "markdown",
   "source": "![survived-rate-by-gender](../outputs/survived-rate-by-gender.png)",
   "id": "85e9512319427688"
  },
  {
   "metadata": {},
   "cell_type": "markdown",
   "source": "## Survived rate by port of embarkation",
   "id": "a4cccc93960458ba"
  },
  {
   "metadata": {
    "ExecuteTime": {
     "end_time": "2025-06-01T17:16:57.529777Z",
     "start_time": "2025-06-01T17:16:57.375494Z"
    }
   },
   "cell_type": "code",
   "source": [
    "plt.figure(figsize = (12.8, 7.2))\n",
    "sns.barplot(x = \"Embarked\", y = \"Survived\", data = df)\n",
    "plt.title(\"Survived rate by Port of Embarkation\", fontsize = 24)\n",
    "plt.xlabel(\"Port of Embarkation\", fontsize = 16)\n",
    "plt.xticks(ticks = [\"S\", \"C\", \"Q\"], labels = [\"Southampton\", \"Cherbourg\", \"Queenstown\"], fontsize = 16)\n",
    "plt.ylabel(\"Survived rate\", fontsize = 16)\n",
    "plt.ylim(0, 1)\n",
    "plt.savefig(\"../outputs/survived-rate-by-port-of-embarkation.png\")\n",
    "plt.close()"
   ],
   "id": "1697d50274ef1e3b",
   "outputs": [],
   "execution_count": 69
  },
  {
   "metadata": {},
   "cell_type": "markdown",
   "source": "![survived-rate-by-port-of-embarkation](../outputs/survived-rate-by-port-of-embarkation.png)",
   "id": "35c054e62acadb88"
  },
  {
   "metadata": {},
   "cell_type": "markdown",
   "source": "## Distribution of age",
   "id": "86f6cb0ab5910dc7"
  },
  {
   "metadata": {
    "ExecuteTime": {
     "end_time": "2025-06-01T17:16:57.718744Z",
     "start_time": "2025-06-01T17:16:57.546309Z"
    }
   },
   "cell_type": "code",
   "source": [
    "plt.figure(figsize = (12.8, 7.2))\n",
    "sns.histplot(df[\"Age\"], bins = 30, kde = True)\n",
    "plt.title(\"Distribution of Age\", fontsize = 24)\n",
    "plt.savefig(\"../outputs/distribution-of-age.png\")\n",
    "plt.xlabel(\"Age\", fontsize = 16)\n",
    "plt.ylabel(\"Count\", fontsize = 16)\n",
    "plt.close()"
   ],
   "id": "4711df97deb5725b",
   "outputs": [],
   "execution_count": 70
  },
  {
   "metadata": {},
   "cell_type": "markdown",
   "source": "![distribution-of-age](../outputs/distribution-of-age.png)",
   "id": "683a60271c59c11c"
  },
  {
   "metadata": {},
   "cell_type": "markdown",
   "source": "## Correlation Heatmap",
   "id": "806629d884feef2e"
  },
  {
   "metadata": {
    "ExecuteTime": {
     "end_time": "2025-06-01T17:16:57.970013Z",
     "start_time": "2025-06-01T17:16:57.736298Z"
    }
   },
   "cell_type": "code",
   "source": [
    "plt.figure(figsize = (12.8, 7.2))\n",
    "numeric_columns = df.select_dtypes(include=[np.number]).columns\n",
    "correlation_matrix = df[numeric_columns].corr()\n",
    "sns.heatmap(correlation_matrix, annot=True, cmap='coolwarm', center=0)\n",
    "plt.title(\"Correlation Heatmap\", fontsize = 24)\n",
    "plt.savefig(\"../outputs/correlation-heatmap.png\")\n",
    "plt.close()"
   ],
   "id": "f2125e1446434b60",
   "outputs": [],
   "execution_count": 71
  },
  {
   "metadata": {},
   "cell_type": "markdown",
   "source": "![correlation-heatmap](../outputs/correlation-heatmap.png)",
   "id": "ff969712bd26bb02"
  }
 ],
 "metadata": {
  "kernelspec": {
   "display_name": "Python 3",
   "language": "python",
   "name": "python3"
  },
  "language_info": {
   "codemirror_mode": {
    "name": "ipython",
    "version": 2
   },
   "file_extension": ".py",
   "mimetype": "text/x-python",
   "name": "python",
   "nbconvert_exporter": "python",
   "pygments_lexer": "ipython2",
   "version": "2.7.6"
  }
 },
 "nbformat": 4,
 "nbformat_minor": 5
}
