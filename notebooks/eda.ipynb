{
 "cells": [
  {
   "metadata": {},
   "cell_type": "markdown",
   "source": "# Exploratory data analysis",
   "id": "94e36e6aec97b82f"
  },
  {
   "metadata": {},
   "cell_type": "markdown",
   "source": "## Preparation",
   "id": "d13d640c6e594d60"
  },
  {
   "cell_type": "code",
   "id": "initial_id",
   "metadata": {
    "collapsed": true,
    "ExecuteTime": {
     "end_time": "2025-06-04T11:20:18.039314Z",
     "start_time": "2025-06-04T11:20:18.021769Z"
    }
   },
   "source": [
    "# imports\n",
    "import pandas as pd\n",
    "import numpy as np\n",
    "import matplotlib.pyplot as plt\n",
    "import seaborn as sns\n",
    "from jupyterlab.semver import comparatorTrimReplace"
   ],
   "outputs": [],
   "execution_count": 75
  },
  {
   "metadata": {
    "ExecuteTime": {
     "end_time": "2025-06-04T11:20:18.054866Z",
     "start_time": "2025-06-04T11:20:18.042327Z"
    }
   },
   "cell_type": "code",
   "source": [
    "# plot style\n",
    "plt.style.use(\"ggplot\")\n",
    "sns.set_palette(\"muted\")"
   ],
   "id": "eeae6ae95ce94c50",
   "outputs": [],
   "execution_count": 76
  },
  {
   "metadata": {
    "ExecuteTime": {
     "end_time": "2025-06-04T11:20:18.085504Z",
     "start_time": "2025-06-04T11:20:18.071416Z"
    }
   },
   "cell_type": "code",
   "source": [
    "# Load the data\n",
    "df = pd.read_csv(\"../data/train.csv\")\n",
    "df[\"Survived?\"] = df[\"Survived\"].map({0 : \"Not Survived\", 1 : \"Survived\"})\n",
    "df[\"Pclass?\"] = df[\"Pclass\"].map({1: \"1st class\", 2: \"2nd class\", 3: \"3rd class\"})\n",
    "df[\"HasAge\"] = 1 - df[\"Age\"].isnull()\n",
    "bins = range(0, 90, 10)\n",
    "labels = [f\"{i}-{i+9}\" for i in range(0, 80, 10)]\n",
    "df['AgeGroup'] = pd.cut(df['Age'], bins=bins, right=False, labels=labels)\n",
    "df[\"Title\"] = df[\"Name\"].str.extract(\" ([A-Za-z]+)\\.\", expand = False)"
   ],
   "id": "470617d111f20d1c",
   "outputs": [],
   "execution_count": 77
  },
  {
   "metadata": {},
   "cell_type": "markdown",
   "source": "## Survival Status",
   "id": "c41afbb7e393c291"
  },
  {
   "metadata": {
    "ExecuteTime": {
     "end_time": "2025-06-04T11:20:18.242552Z",
     "start_time": "2025-06-04T11:20:18.103550Z"
    }
   },
   "cell_type": "code",
   "source": [
    "fig = plt.figure(figsize = (18, 9))\n",
    "fig = sns.histplot(data = df, x = \"Survived?\")\n",
    "fig.set_title(\"Distribution of Survival Status\", fontsize = 24)\n",
    "fig.set_xlabel(\"Survival Status\", fontsize = 16)\n",
    "fig.set_ylabel(\"Count\", fontsize = 16)\n",
    "fig.tick_params(labelsize = 12)\n",
    "plt.savefig(\"../outputs/distribution-of-survival-status.png\")\n",
    "plt.close()"
   ],
   "id": "e3436dfe8f634faf",
   "outputs": [],
   "execution_count": 78
  },
  {
   "metadata": {},
   "cell_type": "markdown",
   "source": "![](../outputs/distribution-of-survival-status.png)",
   "id": "8e352f663051a31c"
  },
  {
   "metadata": {},
   "cell_type": "markdown",
   "source": "## Name and Title",
   "id": "b891e4ac46d86b40"
  },
  {
   "metadata": {
    "ExecuteTime": {
     "end_time": "2025-06-04T11:20:18.715047Z",
     "start_time": "2025-06-04T11:20:18.260103Z"
    }
   },
   "cell_type": "code",
   "source": [
    "fig, [ax1, ax2] = plt.subplots(2, 1, figsize = (15, 10), sharex = True)\n",
    "ax1 = sns.histplot(data = df, x = \"Title\", ax = ax1)\n",
    "ax1.set_title(\"Distribution of Title\", fontsize = 24)\n",
    "ax1.set_ylabel(\"Count\", fontsize = 16)\n",
    "ax1.tick_params(labelsize = 12)\n",
    "ax2 = sns.barplot(data = df, x = \"Title\", y = \"Survived\", ax = ax2)\n",
    "ax2.set_title(\"Survived Rate by Title\", fontsize = 24)\n",
    "ax2.set_ylabel(\"Survival Rate\", fontsize = 16)\n",
    "ax2.tick_params(labelsize = 12, rotation = 45)\n",
    "ax2.set_xlabel(\"Title\", fontsize = 16)\n",
    "plt.tight_layout()\n",
    "plt.savefig(\"../outputs/overview-of-title.png\")\n",
    "plt.close()"
   ],
   "id": "988a9f454ed57966",
   "outputs": [],
   "execution_count": 79
  },
  {
   "metadata": {},
   "cell_type": "markdown",
   "source": "![](../outputs/overview-of-title.png)",
   "id": "e3b014d3b5451074"
  },
  {
   "metadata": {},
   "cell_type": "markdown",
   "source": "## Sex",
   "id": "89079c84349688f9"
  },
  {
   "metadata": {
    "ExecuteTime": {
     "end_time": "2025-06-04T11:20:19.030060Z",
     "start_time": "2025-06-04T11:20:18.731593Z"
    }
   },
   "cell_type": "code",
   "source": [
    "fig, [ax1, ax2] = plt.subplots(2, 1, figsize = (15, 10), sharex = True)\n",
    "ax1 = sns.histplot(data = df, x = \"Sex\", ax = ax1)\n",
    "ax1.set_title(\"Distribution of Sex\", fontsize = 24)\n",
    "ax1.set_ylabel(\"Count\", fontsize = 16)\n",
    "ax1.tick_params(labelsize = 12)\n",
    "ax2 = sns.barplot(data = df, x = \"Sex\", y = \"Survived\", ax = ax2)\n",
    "ax2.set_title(\"Survived Rate by Sex\", fontsize = 24)\n",
    "ax2.set_ylabel(\"Survival Rate\", fontsize = 16)\n",
    "ax2.tick_params(labelsize = 12)\n",
    "ax2.set_xlabel(\"Sex\", fontsize = 16)\n",
    "plt.tight_layout()\n",
    "plt.savefig(\"../outputs/overview-of-sex.png\")\n",
    "plt.close()"
   ],
   "id": "e6ce6b8b14f3d0f2",
   "outputs": [],
   "execution_count": 80
  },
  {
   "metadata": {},
   "cell_type": "markdown",
   "source": "![](../outputs/overview-of-sex.png)",
   "id": "85e9512319427688"
  },
  {
   "metadata": {},
   "cell_type": "markdown",
   "source": "## Ticket Class",
   "id": "1a525358a60cba01"
  },
  {
   "metadata": {},
   "cell_type": "markdown",
   "source": "### General View",
   "id": "7f83bb544e0a25b5"
  },
  {
   "metadata": {
    "ExecuteTime": {
     "end_time": "2025-06-04T11:20:19.156663Z",
     "start_time": "2025-06-04T11:20:19.047621Z"
    }
   },
   "cell_type": "code",
   "source": [
    "fig = plt.figure(figsize = (12.8, 7.2))\n",
    "fig = sns.histplot(x = \"Pclass?\", data = df)\n",
    "fig.set_title(\"Distribution of Ticket Class\", fontsize = 24)\n",
    "fig.set_xlabel(\"Ticket Class\", fontsize = 16)\n",
    "fig.set_ylabel(\"Count\", fontsize = 16)\n",
    "fig.tick_params(labelsize = 12)\n",
    "plt.savefig(\"../outputs/distribution-of-ticket-class.png\")\n",
    "plt.close()"
   ],
   "id": "da74f3d5ed51ce4f",
   "outputs": [],
   "execution_count": 81
  },
  {
   "metadata": {},
   "cell_type": "markdown",
   "source": [
    "![Distribution of Ticket Class](../outputs/distribution-of-ticket-class.png)\n",
    "\n",
    "*Figure showing the distribution of **Ticket Class**.*"
   ],
   "id": "569a3bbd488f667b"
  },
  {
   "metadata": {},
   "cell_type": "markdown",
   "source": "### Effects",
   "id": "fd052c03b78bc5c5"
  },
  {
   "metadata": {
    "ExecuteTime": {
     "end_time": "2025-06-04T11:20:19.345884Z",
     "start_time": "2025-06-04T11:20:19.174237Z"
    }
   },
   "cell_type": "code",
   "source": [
    "fig = plt.figure(figsize = (12.8, 7.2))\n",
    "fig = sns.barplot(x = \"Pclass\", y = \"Survived\", data = df)\n",
    "fig.set_title(\"Survivial Rate by Ticket Class\", fontsize = 24)\n",
    "fig.set_xlabel(\"Ticket Class\", fontsize = 16)\n",
    "fig.set_ylabel(\"Survival Rate\", fontsize = 16)\n",
    "fig.tick_params(labelsize = 12)\n",
    "plt.savefig(\"../outputs/survival-rate-by-ticket-class.png\")\n",
    "plt.close()"
   ],
   "id": "3be994c7f485096d",
   "outputs": [],
   "execution_count": 82
  },
  {
   "metadata": {},
   "cell_type": "markdown",
   "source": [
    "![Survival Rate by Ticket Class](../outputs/survival-rate-by-ticket-class.png)\n",
    "\n",
    "*Figure showing **Survival Rate** by **Ticket Class**.*"
   ],
   "id": "b3498bf9b97becf7"
  },
  {
   "metadata": {
    "ExecuteTime": {
     "end_time": "2025-06-04T11:20:19.518991Z",
     "start_time": "2025-06-04T11:20:19.362436Z"
    }
   },
   "cell_type": "code",
   "source": [
    "fig = plt.figure(figsize = (12.8, 7.2))\n",
    "fig = sns.barplot(x = \"Pclass\", y = \"Fare\", data = df)\n",
    "fig.set_title(\"Fare by Ticket Class\", fontsize = 24)\n",
    "fig.set_xlabel(\"Ticket Class\", fontsize = 16)\n",
    "fig.set_ylabel(\"Fare\", fontsize = 16)\n",
    "fig.tick_params(labelsize = 12)\n",
    "plt.savefig(\"../outputs/fare-by-ticket-class.png\")\n",
    "plt.close()"
   ],
   "id": "2abcc0c1a7a47615",
   "outputs": [],
   "execution_count": 83
  },
  {
   "metadata": {},
   "cell_type": "markdown",
   "source": [
    "![Fare by Ticket Class](../outputs/fare-by-ticket-class.png)\n",
    "\n",
    "*Figure showing **Fare** by **Ticket Class**.*"
   ],
   "id": "a9cf181031b4b686"
  },
  {
   "metadata": {},
   "cell_type": "markdown",
   "source": "## Age",
   "id": "30fd2b741faee6ad"
  },
  {
   "metadata": {},
   "cell_type": "markdown",
   "source": "### General View",
   "id": "26e9242fa7507b53"
  },
  {
   "metadata": {
    "ExecuteTime": {
     "end_time": "2025-06-04T11:20:19.658131Z",
     "start_time": "2025-06-04T11:20:19.535095Z"
    }
   },
   "cell_type": "code",
   "source": [
    "fig = plt.figure(figsize = (12.8, 7.2))\n",
    "fig = sns.histplot(x = \"AgeGroup\", data = df)\n",
    "fig.set_title(\"Distribution of Age\", fontsize = 24)\n",
    "fig.set_xlabel(\"Age\", fontsize = 16)\n",
    "fig.set_ylabel(\"Count\", fontsize = 16)\n",
    "fig.tick_params(labelsize = 16)\n",
    "plt.savefig(\"../outputs/distribution-of-age.png\")\n",
    "plt.close()"
   ],
   "id": "f90ee7ba0e3b640",
   "outputs": [],
   "execution_count": 84
  },
  {
   "metadata": {},
   "cell_type": "markdown",
   "source": "![distribution-of-age](../outputs/distribution-of-age.png)",
   "id": "b537fc46438c0df3"
  },
  {
   "metadata": {},
   "cell_type": "markdown",
   "source": [
    "### Looking at Missing Values\n",
    "\n",
    "There are **177/891 = 19.87%** of missing values for the feature **Age**.\n",
    "Our first initial guess for why some **Age** were missing are:\n",
    "* The dead passenger couldn't tell us what age he was.\n",
    "* The survived passenger were reluctant to tell us what age he was.\n",
    "* Those who collect data may not be interested in some people."
   ],
   "id": "c4bfb91789b2bb97"
  },
  {
   "metadata": {
    "ExecuteTime": {
     "end_time": "2025-06-04T11:20:19.829896Z",
     "start_time": "2025-06-04T11:20:19.675210Z"
    }
   },
   "cell_type": "code",
   "source": [
    "fig = plt.figure(figsize = (12.8, 7.2)) #2560 x 1440\n",
    "fig = sns.barplot(x = \"Survived?\", y = \"HasAge\", data = df)\n",
    "fig.set_title(\"Proportion of Non-Missing Age Data by Survival Status\", fontsize = 24)\n",
    "fig.set_xlabel(\"Survival Status\", fontsize = 16)\n",
    "fig.set_ylabel(\"Proportion of Non-Missing Age Data\", fontsize = 16)\n",
    "fig.tick_params(labelsize = 16)\n",
    "fig.set_ylim(0, 1)\n",
    "plt.savefig(\"../outputs/proportion-of-non-missing-age-data-by-survival-status.png\")\n",
    "plt.close()"
   ],
   "id": "238c77d87c17093e",
   "outputs": [],
   "execution_count": 85
  },
  {
   "metadata": {},
   "cell_type": "markdown",
   "source": [
    "![proportion-of-non-missing-age-data-by-survival-status](../outputs/proportion-of-non-missing-age-data-by-survival-status.png)\n",
    "\n",
    "The above figure shown the proportion of non-missing **Age** data by **Survival Status**.\n",
    "\n",
    "From the figure, we had observed that the survived passenger indeed had a higher proportion of non-missing **Age** data.\n",
    "How about the proportion of non-missing age data by other features?"
   ],
   "id": "9d983c1c2f4bb70a"
  },
  {
   "metadata": {
    "ExecuteTime": {
     "end_time": "2025-06-04T11:20:20.079881Z",
     "start_time": "2025-06-04T11:20:19.846952Z"
    }
   },
   "cell_type": "code",
   "source": [
    "fig = plt.figure(figsize = (12.8, 7.2))\n",
    "fig = sns.barplot(x = \"Pclass?\", y = \"HasAge\", hue = \"Survived?\", dodge = True, data = df)\n",
    "fig.set_title(\"Proportion of Non-Missing Age Data by Ticket Class\", fontsize = 24)\n",
    "fig.set_xlabel(\"Ticket Class\", fontsize = 16)\n",
    "fig.set_ylabel(\"Proportion of Non-Missing Age Data\", fontsize = 16)\n",
    "fig.tick_params(labelsize = 16)\n",
    "fig.set_ylim(0, 1)\n",
    "plt.savefig(\"../outputs/proportion-of-non-missing-age-data-by-ticket-class.png\")\n",
    "plt.close()"
   ],
   "id": "8b5988085807736d",
   "outputs": [],
   "execution_count": 86
  },
  {
   "metadata": {},
   "cell_type": "markdown",
   "source": [
    "![proportion-of-non-missing-age-data-by-ticket-class.png](../outputs/proportion-of-non-missing-age-data-by-ticket-class.png)\n",
    "\n",
    "The above figure shown the proportion of non-missing **Age** data by **Ticket Class**.\n",
    "\n",
    "From the figure, we had observed that:\n",
    "* For the passengers with 1st class ticket, there is a huge differences in proportion of non-missing **Age** data by their survival status.\n",
    "* For the passengers with 2nd or 3rd class ticket, there is only negligible differences in proportion of non-missing **Age** data by their survival status.\n",
    "* Generally speaking, the proportion of non-missing **Age** data is higher for passengers with 2nd class ticket, followed by 1st and 3rd class.\n",
    "\n",
    "Our initial guess to explain the above findings are:\n",
    "* passengers with 2nd or 3rd class ticket might come with groups, even one passenger die, his family member or his friend might still be able to answer his **Age**.\n",
    "* the **Age** data for the passengers with 1st and 2nd class ticket is better documented than for passengers with 3rd class ticket."
   ],
   "id": "d7653c45d8f29ffe"
  },
  {
   "metadata": {
    "ExecuteTime": {
     "end_time": "2025-06-04T11:20:20.297764Z",
     "start_time": "2025-06-04T11:20:20.097523Z"
    }
   },
   "cell_type": "code",
   "source": [
    "fig = plt.figure(figsize = (12.8, 7.2))\n",
    "fig = sns.barplot(x = \"Sex\", y = \"HasAge\", hue = \"Survived?\", dodge = True, data = df)\n",
    "fig.set_title(\"Proportion of Non-Missing Age Data by Sex\", fontsize = 24)\n",
    "fig.set_xlabel(\"Sex\", fontsize = 16)\n",
    "fig.set_ylabel(\"Proportion of Non-Missing Age Data\", fontsize = 16)\n",
    "fig.tick_params(labelsize = 16)\n",
    "fig.set_ylim(0, 1)\n",
    "plt.savefig(\"../outputs/proportion-of-non-missing-age-data-by-sex.png\")\n",
    "plt.close()"
   ],
   "id": "ca96eb6318f7f08f",
   "outputs": [],
   "execution_count": 87
  },
  {
   "metadata": {},
   "cell_type": "markdown",
   "source": [
    "![proportion-of-non-missing-age-data-by-sex](../outputs/proportion-of-non-missing-age-data-by-sex.png)\n",
    "\n",
    "The above figure shown the proportion of non-missing **Age** data by **Sex**.\n",
    "\n",
    "From the figure, we had observed that there is no differences for the proportion of non-missing **Age** data by **Sex**."
   ],
   "id": "4727ea0c570729d7"
  },
  {
   "metadata": {},
   "cell_type": "markdown",
   "source": [
    "### Effects\n",
    "\n",
    "After looking at the proportion of non-missing **Age** data by different features, we are interested if **Age** would be a good feature to use to predict the **Survival Status**."
   ],
   "id": "ca206433221f4d69"
  },
  {
   "metadata": {
    "ExecuteTime": {
     "end_time": "2025-06-04T11:20:20.563530Z",
     "start_time": "2025-06-04T11:20:20.314835Z"
    }
   },
   "cell_type": "code",
   "source": [
    "fig = plt.figure(figsize = (12.8, 7.2))\n",
    "fig = sns.barplot(x=\"AgeGroup\", y=\"Survived\", data=df)\n",
    "fig.set_title(\"Survival Rate by Age\", fontsize=24)\n",
    "fig.set_xlabel(\"Age\", fontsize=16)\n",
    "fig.set_ylabel(\"Survival Rate\", fontsize=16)\n",
    "fig.tick_params(labelsize = 16)\n",
    "plt.savefig(\"../outputs/survival-rate-by-age.png\")\n",
    "plt.close()"
   ],
   "id": "a970da367b6ee639",
   "outputs": [],
   "execution_count": 88
  },
  {
   "metadata": {},
   "cell_type": "markdown",
   "source": [
    "![survival-rate-by-age](../outputs/survival-rate-by-age.png)\n",
    "\n",
    "The above figure shown the **Survival Rate** by **Age**.\n",
    "\n",
    "From the above figure, we had observed that:\n",
    "* The **Survival Rate** for passenger aged **0-9** is much higher than other passenger.\n",
    "* The **Survival Rate** for passenger aged **10-69** is within the error margin of **342/891 = 38.38%**.\n",
    "\n",
    "Our guess is that:\n",
    "* Children are in a higher priority of getting rescued.\n",
    "* If the passenger is not a child, then age is not a factor for determining the priority of getting rescued.\n",
    "\n",
    "In conclusion, we might want to use **Age** as a feature in predicting the **Survival Status**.\n",
    "Yet a mapping of whether the **Age** is between **0-9** might perform better than using the **Age** directly."
   ],
   "id": "877d63fa90ea0137"
  },
  {
   "metadata": {},
   "cell_type": "markdown",
   "source": [
    "### Filling the Missing Values\n",
    "\n",
    "In this section, we are interested to find the best way to fill the missing values for **Age** data.\n",
    "Some possible ways are:\n",
    "* Fill with mean/median/mode\n",
    "* Regress **Age** using other features.\n",
    "\n",
    "To regress **Age** using other features, we have to make sure that the other features indeed make a differences to the **Age** data."
   ],
   "id": "c618a0098f651924"
  },
  {
   "metadata": {
    "ExecuteTime": {
     "end_time": "2025-06-04T11:20:22.278075Z",
     "start_time": "2025-06-04T11:20:20.580074Z"
    }
   },
   "cell_type": "code",
   "source": [
    "fig = plt.figure(figsize = (12.8, 7.2))\n",
    "fig = sns.barplot(x = \"Pclass?\", y = \"Age\", data = df)\n",
    "fig.set_title(\"Mean Age Data by Ticket Class\", fontsize = 24)\n",
    "fig.set_xlabel(\"Ticket Class\", fontsize = 16)\n",
    "fig.set_ylabel(\"Age\", fontsiz = 16)\n",
    "fig.tick_params(labelsize = 12)\n",
    "plt.savefig(\"../outputs/mean-age-data-by-ticket-class.png\")\n",
    "plt.close()"
   ],
   "id": "fcabc9ddc2540c0a",
   "outputs": [
    {
     "ename": "AttributeError",
     "evalue": "'Text' object has no property 'fontsiz'",
     "output_type": "error",
     "traceback": [
      "\u001B[1;31m---------------------------------------------------------------------------\u001B[0m",
      "\u001B[1;31mAttributeError\u001B[0m                            Traceback (most recent call last)",
      "Cell \u001B[1;32mIn[89], line 5\u001B[0m\n\u001B[0;32m      3\u001B[0m fig\u001B[38;5;241m.\u001B[39mset_title(\u001B[38;5;124m\"\u001B[39m\u001B[38;5;124mMean Age Data by Ticket Class\u001B[39m\u001B[38;5;124m\"\u001B[39m, fontsize \u001B[38;5;241m=\u001B[39m \u001B[38;5;241m24\u001B[39m)\n\u001B[0;32m      4\u001B[0m fig\u001B[38;5;241m.\u001B[39mset_xlabel(\u001B[38;5;124m\"\u001B[39m\u001B[38;5;124mTicket Class\u001B[39m\u001B[38;5;124m\"\u001B[39m, fontsize \u001B[38;5;241m=\u001B[39m \u001B[38;5;241m16\u001B[39m)\n\u001B[1;32m----> 5\u001B[0m \u001B[43mfig\u001B[49m\u001B[38;5;241;43m.\u001B[39;49m\u001B[43mset_ylabel\u001B[49m\u001B[43m(\u001B[49m\u001B[38;5;124;43m\"\u001B[39;49m\u001B[38;5;124;43mAge\u001B[39;49m\u001B[38;5;124;43m\"\u001B[39;49m\u001B[43m,\u001B[49m\u001B[43m \u001B[49m\u001B[43mfontsiz\u001B[49m\u001B[43m \u001B[49m\u001B[38;5;241;43m=\u001B[39;49m\u001B[43m \u001B[49m\u001B[38;5;241;43m16\u001B[39;49m\u001B[43m)\u001B[49m\n\u001B[0;32m      6\u001B[0m fig\u001B[38;5;241m.\u001B[39mtick_params(labelsize \u001B[38;5;241m=\u001B[39m \u001B[38;5;241m12\u001B[39m)\n\u001B[0;32m      7\u001B[0m plt\u001B[38;5;241m.\u001B[39msavefig(\u001B[38;5;124m\"\u001B[39m\u001B[38;5;124m../outputs/mean-age-data-by-ticket-class.png\u001B[39m\u001B[38;5;124m\"\u001B[39m)\n",
      "File \u001B[1;32m~\\anaconda3\\envs\\MachineLearning\\lib\\site-packages\\matplotlib\\axes\\_base.py:3853\u001B[0m, in \u001B[0;36m_AxesBase.set_ylabel\u001B[1;34m(self, ylabel, fontdict, labelpad, loc, **kwargs)\u001B[0m\n\u001B[0;32m   3846\u001B[0m     y, ha \u001B[38;5;241m=\u001B[39m {\n\u001B[0;32m   3847\u001B[0m         \u001B[38;5;124m'\u001B[39m\u001B[38;5;124mbottom\u001B[39m\u001B[38;5;124m'\u001B[39m: (\u001B[38;5;241m0\u001B[39m, \u001B[38;5;124m'\u001B[39m\u001B[38;5;124mleft\u001B[39m\u001B[38;5;124m'\u001B[39m),\n\u001B[0;32m   3848\u001B[0m         \u001B[38;5;124m'\u001B[39m\u001B[38;5;124mcenter\u001B[39m\u001B[38;5;124m'\u001B[39m: (\u001B[38;5;241m0.5\u001B[39m, \u001B[38;5;124m'\u001B[39m\u001B[38;5;124mcenter\u001B[39m\u001B[38;5;124m'\u001B[39m),\n\u001B[0;32m   3849\u001B[0m         \u001B[38;5;124m'\u001B[39m\u001B[38;5;124mtop\u001B[39m\u001B[38;5;124m'\u001B[39m: (\u001B[38;5;241m1\u001B[39m, \u001B[38;5;124m'\u001B[39m\u001B[38;5;124mright\u001B[39m\u001B[38;5;124m'\u001B[39m)\n\u001B[0;32m   3850\u001B[0m     }[loc]\n\u001B[0;32m   3851\u001B[0m     kwargs\u001B[38;5;241m.\u001B[39mupdate(y\u001B[38;5;241m=\u001B[39my, horizontalalignment\u001B[38;5;241m=\u001B[39mha)\n\u001B[1;32m-> 3853\u001B[0m \u001B[38;5;28;01mreturn\u001B[39;00m \u001B[38;5;28mself\u001B[39m\u001B[38;5;241m.\u001B[39myaxis\u001B[38;5;241m.\u001B[39mset_label_text(ylabel, fontdict, \u001B[38;5;241m*\u001B[39m\u001B[38;5;241m*\u001B[39mkwargs)\n",
      "File \u001B[1;32m~\\anaconda3\\envs\\MachineLearning\\lib\\site-packages\\matplotlib\\axis.py:1913\u001B[0m, in \u001B[0;36mAxis.set_label_text\u001B[1;34m(self, label, fontdict, **kwargs)\u001B[0m\n\u001B[0;32m   1911\u001B[0m \u001B[38;5;28;01mif\u001B[39;00m fontdict \u001B[38;5;129;01mis\u001B[39;00m \u001B[38;5;129;01mnot\u001B[39;00m \u001B[38;5;28;01mNone\u001B[39;00m:\n\u001B[0;32m   1912\u001B[0m     \u001B[38;5;28mself\u001B[39m\u001B[38;5;241m.\u001B[39mlabel\u001B[38;5;241m.\u001B[39mupdate(fontdict)\n\u001B[1;32m-> 1913\u001B[0m \u001B[38;5;28;43mself\u001B[39;49m\u001B[38;5;241;43m.\u001B[39;49m\u001B[43mlabel\u001B[49m\u001B[38;5;241;43m.\u001B[39;49m\u001B[43mupdate\u001B[49m\u001B[43m(\u001B[49m\u001B[43mkwargs\u001B[49m\u001B[43m)\u001B[49m\n\u001B[0;32m   1914\u001B[0m \u001B[38;5;28mself\u001B[39m\u001B[38;5;241m.\u001B[39mstale \u001B[38;5;241m=\u001B[39m \u001B[38;5;28;01mTrue\u001B[39;00m\n\u001B[0;32m   1915\u001B[0m \u001B[38;5;28;01mreturn\u001B[39;00m \u001B[38;5;28mself\u001B[39m\u001B[38;5;241m.\u001B[39mlabel\n",
      "File \u001B[1;32m~\\anaconda3\\envs\\MachineLearning\\lib\\site-packages\\matplotlib\\text.py:205\u001B[0m, in \u001B[0;36mText.update\u001B[1;34m(self, kwargs)\u001B[0m\n\u001B[0;32m    203\u001B[0m \u001B[38;5;66;03m# Update bbox last, as it depends on font properties.\u001B[39;00m\n\u001B[0;32m    204\u001B[0m bbox \u001B[38;5;241m=\u001B[39m kwargs\u001B[38;5;241m.\u001B[39mpop(\u001B[38;5;124m\"\u001B[39m\u001B[38;5;124mbbox\u001B[39m\u001B[38;5;124m\"\u001B[39m, sentinel)\n\u001B[1;32m--> 205\u001B[0m ret\u001B[38;5;241m.\u001B[39mextend(\u001B[38;5;28;43msuper\u001B[39;49m\u001B[43m(\u001B[49m\u001B[43m)\u001B[49m\u001B[38;5;241;43m.\u001B[39;49m\u001B[43mupdate\u001B[49m\u001B[43m(\u001B[49m\u001B[43mkwargs\u001B[49m\u001B[43m)\u001B[49m)\n\u001B[0;32m    206\u001B[0m \u001B[38;5;28;01mif\u001B[39;00m bbox \u001B[38;5;129;01mis\u001B[39;00m \u001B[38;5;129;01mnot\u001B[39;00m sentinel:\n\u001B[0;32m    207\u001B[0m     ret\u001B[38;5;241m.\u001B[39mappend(\u001B[38;5;28mself\u001B[39m\u001B[38;5;241m.\u001B[39mset_bbox(bbox))\n",
      "File \u001B[1;32m~\\anaconda3\\envs\\MachineLearning\\lib\\site-packages\\matplotlib\\artist.py:1223\u001B[0m, in \u001B[0;36mArtist.update\u001B[1;34m(self, props)\u001B[0m\n\u001B[0;32m   1215\u001B[0m \u001B[38;5;28;01mdef\u001B[39;00m\u001B[38;5;250m \u001B[39m\u001B[38;5;21mupdate\u001B[39m(\u001B[38;5;28mself\u001B[39m, props):\n\u001B[0;32m   1216\u001B[0m \u001B[38;5;250m    \u001B[39m\u001B[38;5;124;03m\"\"\"\u001B[39;00m\n\u001B[0;32m   1217\u001B[0m \u001B[38;5;124;03m    Update this artist's properties from the dict *props*.\u001B[39;00m\n\u001B[0;32m   1218\u001B[0m \n\u001B[1;32m   (...)\u001B[0m\n\u001B[0;32m   1221\u001B[0m \u001B[38;5;124;03m    props : dict\u001B[39;00m\n\u001B[0;32m   1222\u001B[0m \u001B[38;5;124;03m    \"\"\"\u001B[39;00m\n\u001B[1;32m-> 1223\u001B[0m     \u001B[38;5;28;01mreturn\u001B[39;00m \u001B[38;5;28;43mself\u001B[39;49m\u001B[38;5;241;43m.\u001B[39;49m\u001B[43m_update_props\u001B[49m\u001B[43m(\u001B[49m\n\u001B[0;32m   1224\u001B[0m \u001B[43m        \u001B[49m\u001B[43mprops\u001B[49m\u001B[43m,\u001B[49m\u001B[43m \u001B[49m\u001B[38;5;124;43m\"\u001B[39;49m\u001B[38;5;132;43;01m{cls.__name__!r}\u001B[39;49;00m\u001B[38;5;124;43m object has no property \u001B[39;49m\u001B[38;5;132;43;01m{prop_name!r}\u001B[39;49;00m\u001B[38;5;124;43m\"\u001B[39;49m\u001B[43m)\u001B[49m\n",
      "File \u001B[1;32m~\\anaconda3\\envs\\MachineLearning\\lib\\site-packages\\matplotlib\\artist.py:1206\u001B[0m, in \u001B[0;36mArtist._update_props\u001B[1;34m(self, props, errfmt)\u001B[0m\n\u001B[0;32m   1204\u001B[0m             func \u001B[38;5;241m=\u001B[39m \u001B[38;5;28mgetattr\u001B[39m(\u001B[38;5;28mself\u001B[39m, \u001B[38;5;124mf\u001B[39m\u001B[38;5;124m\"\u001B[39m\u001B[38;5;124mset_\u001B[39m\u001B[38;5;132;01m{\u001B[39;00mk\u001B[38;5;132;01m}\u001B[39;00m\u001B[38;5;124m\"\u001B[39m, \u001B[38;5;28;01mNone\u001B[39;00m)\n\u001B[0;32m   1205\u001B[0m             \u001B[38;5;28;01mif\u001B[39;00m \u001B[38;5;129;01mnot\u001B[39;00m \u001B[38;5;28mcallable\u001B[39m(func):\n\u001B[1;32m-> 1206\u001B[0m                 \u001B[38;5;28;01mraise\u001B[39;00m \u001B[38;5;167;01mAttributeError\u001B[39;00m(\n\u001B[0;32m   1207\u001B[0m                     errfmt\u001B[38;5;241m.\u001B[39mformat(\u001B[38;5;28mcls\u001B[39m\u001B[38;5;241m=\u001B[39m\u001B[38;5;28mtype\u001B[39m(\u001B[38;5;28mself\u001B[39m), prop_name\u001B[38;5;241m=\u001B[39mk),\n\u001B[0;32m   1208\u001B[0m                     name\u001B[38;5;241m=\u001B[39mk)\n\u001B[0;32m   1209\u001B[0m             ret\u001B[38;5;241m.\u001B[39mappend(func(v))\n\u001B[0;32m   1210\u001B[0m \u001B[38;5;28;01mif\u001B[39;00m ret:\n",
      "\u001B[1;31mAttributeError\u001B[0m: 'Text' object has no property 'fontsiz'"
     ]
    },
    {
     "data": {
      "text/plain": [
       "<Figure size 1280x720 with 1 Axes>"
      ],
      "image/png": "[encoded data removed]"
     },
     "metadata": {},
     "output_type": "display_data"
    }
   ],
   "execution_count": 89
  },
  {
   "metadata": {},
   "cell_type": "markdown",
   "source": [
    "![Mean Age data by Ticket Class](../outputs/mean-age-data-by-ticket-class.png)\n",
    "\n",
    "*Figure showing the mean **Age** data for passenger with different **Ticket Class**.*\n",
    "\n",
    "From the above figure, we had observed that:\n",
    "* The mean **Age** data for passenger with **1st class ticket** are higher than those with **2nd/3rd class ticket**\n",
    "\n",
    "Our guess:\n",
    "* **Older passengers** with longer working experience may be healthier and more willing to purchase **higher-class tickets**."
   ],
   "id": "5fb17315d62376dc"
  },
  {
   "metadata": {
    "ExecuteTime": {
     "end_time": "2025-06-04T11:20:22.287603900Z",
     "start_time": "2025-06-04T09:46:35.702938Z"
    }
   },
   "cell_type": "code",
   "source": [
    "fig = plt.figure(figsize = (12.8, 7.2))\n",
    "fig = sns.barplot(x = \"Sex\", y = \"Age\",data = df)\n",
    "fig.set_title(\"Mean Age Data by Sex\", fontsize = 24)\n",
    "fig.set_xlabel(\"Sex\", fontsize = 16)\n",
    "fig.set_ylabel(\"Age\", fontsize = 16)\n",
    "fig.tick_params(labelsize = 12)\n",
    "plt.savefig(\"../outputs/mean-age-data-by-sex.png\")\n",
    "plt.close()"
   ],
   "id": "34d4edc114f1f0a4",
   "outputs": [],
   "execution_count": 64
  },
  {
   "metadata": {},
   "cell_type": "markdown",
   "source": [
    "![Mean Age Data by Sex](../outputs/mean-age-data-by-sex.png)\n",
    "\n",
    "*Figure showing the mean **Age** data by **Sex**.*\n",
    "\n",
    "From the above figure, the mean **Age** data for **male** passenger is slightly higher than **female** passenger.\n",
    "\n",
    "Thus, we might want to use **Sex** to regress on **Age**."
   ],
   "id": "45c6b279db34c464"
  }
 ],
 "metadata": {
  "kernelspec": {
   "display_name": "Python 3",
   "language": "python",
   "name": "python3"
  },
  "language_info": {
   "codemirror_mode": {
    "name": "ipython",
    "version": 2
   },
   "file_extension": ".py",
   "mimetype": "text/x-python",
   "name": "python",
   "nbconvert_exporter": "python",
   "pygments_lexer": "ipython2",
   "version": "2.7.6"
  }
 },
 "nbformat": 4,
 "nbformat_minor": 5
}
