{
 "cells": [
  {
   "metadata": {},
   "cell_type": "markdown",
   "source": "# Preprocessing",
   "id": "6642953d11b99556"
  },
  {
   "cell_type": "code",
   "id": "initial_id",
   "metadata": {
    "collapsed": true,
    "ExecuteTime": {
     "end_time": "2025-06-04T10:56:10.636607Z",
     "start_time": "2025-06-04T10:56:10.620206Z"
    }
   },
   "source": [
    "import pandas as pd\n",
    "import numpy as np\n",
    "from sklearn.preprocessing import StandardScaler, LabelEncoder\n",
    "from sklearn.linear_model import LinearRegression"
   ],
   "outputs": [],
   "execution_count": 62
  },
  {
   "metadata": {
    "ExecuteTime": {
     "end_time": "2025-06-04T11:18:51.340520Z",
     "start_time": "2025-06-04T11:18:51.323860Z"
    }
   },
   "cell_type": "code",
   "source": [
    "def preprocess_data(df, is_Train = True):\n",
    "\n",
    "    # Name and Title\n",
    "    df[\"Title\"] = df[\"Name\"].str.extract(\" ([A-Za-z]+)\\.\", expand = False)\n",
    "    title_mapping = {\"Mr\": 1, \"Miss\": 2, \"Mrs\": 3, \"Master\": 4}\n",
    "    df[\"Title\"] = df[\"Title\"].map(title_mapping).fillna(0).astype(int)\n",
    "\n",
    "    # Sex\n",
    "    df[\"Sex\"] = df[\"Sex\"].map({\"male\": 1, \"female\": 0}).astype(int)\n",
    "\n",
    "    # Age\n",
    "    # We would fill the missing values usings regression on Title + Sex + Ticket Class\n",
    "    # Then we would map Age to 1 if Age is in the group 0 - 9\n",
    "    title_dummies = pd.get_dummies(df[\"Title\"], prefix = \"Title\", drop_first = True)\n",
    "    pclass_dummies = pd.get_dummies(df[\"Pclass\"], prefix = \"Pclass\", drop_first = True)\n",
    "    df = pd.concat([df, title_dummies, pclass_dummies], axis = 1)\n",
    "    regress_features = [\"Sex\"] + [col for col in df.columns if col.startswith(\"Title_\")] + [col for col in df.columns if col.startswith(\"Pclass_\")]\n",
    "    train_data = df[df[\"Age\"].notna()]\n",
    "    test_data = df[df[\"Age\"].isna()]\n",
    "    model = LinearRegression()\n",
    "    model.fit(train_data[regress_features], train_data[\"Age\"])\n",
    "    df.loc[df[\"Age\"].isna(), \"Age\"] = model.predict(test_data[regress_features])\n",
    "    df[\"Age\"] = df[\"Age\"].map(lambda x: 1 if x < 10 else 0)\n",
    "\n",
    "    # SibSp & Parch\n",
    "    df[\"FamilySize\"] = df[\"SibSp\"] + df[\"Parch\"] + 1\n",
    "\n",
    "    # Fare\n",
    "    df[\"Fare\"] = df[\"Fare\"].fillna(df[\"Fare\"].median())\n",
    "    df[\"LogFare\"] = df[\"Fare\"].apply(lambda x: np.log(x) if x > 0 else 0)\n",
    "    df[\"FareGroup\"] = pd.qcut(df[\"Fare\"], 5)\n",
    "    labelEncoder = LabelEncoder()\n",
    "    df[\"FareGroup\"] = labelEncoder.fit_transform(df[\"FareGroup\"])\n",
    "\n",
    "\n",
    "    # Embarked\n",
    "    df[\"Embarked\"] = df[\"Embarked\"].fillna(df[\"Embarked\"].mode()[0])\n",
    "    df[\"Embarked\"] = df[\"Embarked\"].map({\"S\": 1, \"C\": 2, \"Q\": 3}).astype(int)\n",
    "\n",
    "    # Others\n",
    "    if is_Train:\n",
    "        df = df[[\"PassengerId\", \"Survived\",\"Sex\", \"FareGroup\"]]\n",
    "    else:\n",
    "        df = df[[\"PassengerId\", \"Sex\", \"FareGroup\"]]\n",
    "    return df"
   ],
   "id": "6b40e6d8912bb9b4",
   "outputs": [],
   "execution_count": 138
  },
  {
   "metadata": {
    "ExecuteTime": {
     "end_time": "2025-06-04T11:18:52.184519Z",
     "start_time": "2025-06-04T11:18:52.143874Z"
    }
   },
   "cell_type": "code",
   "source": [
    "train_df = pd.read_csv(\"../data/train.csv\")\n",
    "test_df = pd.read_csv(\"../data/test.csv\")\n",
    "\n",
    "train_df = preprocess_data(train_df)\n",
    "test_df = preprocess_data(test_df, False)"
   ],
   "id": "9a5e3065ad3a7641",
   "outputs": [],
   "execution_count": 139
  },
  {
   "metadata": {
    "ExecuteTime": {
     "end_time": "2025-06-04T11:18:53.207245Z",
     "start_time": "2025-06-04T11:18:53.190696Z"
    }
   },
   "cell_type": "code",
   "source": [
    "x_train = train_df.drop(columns = [\"PassengerId\", \"Survived\"], axis = 1)\n",
    "x_test = test_df.drop(\"PassengerId\", axis = 1)\n",
    "y_train = train_df[\"Survived\"]\n",
    "\n",
    "#scaler = StandardScaler()\n",
    "#x_train = scaler.fit_transform(x_train)\n",
    "#x_test = scaler.transform(x_test)"
   ],
   "id": "5f97d93e3e1f9452",
   "outputs": [],
   "execution_count": 140
  },
  {
   "metadata": {
    "ExecuteTime": {
     "end_time": "2025-06-04T11:18:54.959511Z",
     "start_time": "2025-06-04T11:18:54.952482Z"
    }
   },
   "cell_type": "code",
   "source": [
    "train_df.to_pickle(\"../metadata/train.pkl\")\n",
    "test_df.to_pickle(\"../metadata/test.pkl\")\n",
    "pd.DataFrame(x_train).to_pickle(\"../metadata/x_train.pkl\")\n",
    "pd.DataFrame(x_test).to_pickle(\"../metadata/x_test.pkl\")\n",
    "pd.DataFrame(y_train).to_pickle(\"../metadata/y_train.pkl\")"
   ],
   "id": "5c3097940184ec3c",
   "outputs": [],
   "execution_count": 141
  }
 ],
 "metadata": {
  "kernelspec": {
   "display_name": "Python 3",
   "language": "python",
   "name": "python3"
  },
  "language_info": {
   "codemirror_mode": {
    "name": "ipython",
    "version": 2
   },
   "file_extension": ".py",
   "mimetype": "text/x-python",
   "name": "python",
   "nbconvert_exporter": "python",
   "pygments_lexer": "ipython2",
   "version": "2.7.6"
  }
 },
 "nbformat": 4,
 "nbformat_minor": 5
}
