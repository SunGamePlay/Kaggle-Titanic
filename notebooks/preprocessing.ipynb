{
 "cells": [
  {
   "metadata": {
    "collapsed": true,
    "ExecuteTime": {
     "end_time": "2025-06-06T12:34:33.759191Z",
     "start_time": "2025-06-06T12:34:33.753669Z"
    }
   },
   "cell_type": "code",
   "source": [
    "import numpy as np\n",
    "import pandas as pd"
   ],
   "id": "initial_id",
   "outputs": [],
   "execution_count": 11
  },
  {
   "metadata": {
    "ExecuteTime": {
     "end_time": "2025-06-06T12:34:35.240654Z",
     "start_time": "2025-06-06T12:34:34.615676Z"
    }
   },
   "cell_type": "code",
   "source": [
    "df_train = pd.read_csv(\"../data/train.csv\")\n",
    "df_test = pd.read_csv(\"../data/test.csv\")\n",
    "df = pd.concat([df_train, df_test])\n",
    "\n",
    "# Pclass\n",
    "df[\"Pclass\"] = df[\"Pclass\"].map(lambda x: 3 - x) #After mapping, higher values = higher chance to survive?\n",
    "\n",
    "# Name\n",
    "df[\"Title\"] = df[\"Name\"].str.extract(\" ([A-Za-z]+)\\.\")\n",
    "df[\"Title\"] = df[\"Title\"].replace([\"Mlle\", \"Ms\", \"Mme\"], \"Miss\")\n",
    "df[\"Title\"] = df[\"Title\"].replace([\"Lady\"], \"Mrs\")\n",
    "df[\"Title\"] = df[\"Title\"].map({\"Mr\": -1, \"Master\": 1, \"Miss\": 2, \"Mrs\" : 3}).fillna(0).astype(int)\n",
    "df[\"Title\"] = df[\"Title\"].map(lambda x: x + 1)\n",
    "df = df.drop(columns = [\"Name\"])\n",
    "\n",
    "# Sex\n",
    "df[\"Sex\"] = df[\"Sex\"].map({\"male\": 0, \"female\": 1})\n",
    "\n",
    "# Age\n",
    "df[\"Age\"] = df.groupby(\"Title\")[\"Age\"].transform(lambda x: x.fillna(x.median()))\n",
    "df[\"Age\"] = df[\"Age\"].map(lambda x: 1 if x < 16 else 0)\n",
    "\n",
    "# SibSp & Parch\n",
    "df[\"FamilySize\"] = df[\"SibSp\"] + df[\"Parch\"] + 1\n",
    "df[\"FamilySize\"] = df[\"FamilySize\"].map({2: 1, 3: 1, 4: 1}).fillna(0).astype(int)\n",
    "df = df.drop(columns = [\"SibSp\", \"Parch\"])\n",
    "\n",
    "# Ticket\n",
    "df[\"ConnectedSurvival\"] = 0.5\n",
    "for _, grp in df.groupby(\"Ticket\"):\n",
    "    if(len(grp) > 1):\n",
    "        for ind, row in grp.iterrows():\n",
    "            smax = grp.drop(ind)[\"Survived\"].max()\n",
    "            smin = grp.drop(ind)[\"Survived\"].min()\n",
    "            passID = row[\"PassengerId\"]\n",
    "            if (smax == 1.0):\n",
    "                df.loc[df[\"PassengerId\"] == passID, \"ConnectedSurvival\"] = 1\n",
    "            elif (smin == 0.0):\n",
    "                df.loc[df[\"PassengerId\"] == passID, \"ConnectedSurvival\"] = 0\n",
    "df = df.drop(columns = [\"Ticket\"])\n",
    "\n",
    "# Fare\n",
    "df[\"Fare\"] = df[\"Fare\"].fillna(df[\"Fare\"].median())\n",
    "df[\"Fare\"] = df[\"Fare\"].map(lambda x: np.log10(x) if x > 0 else 0)\n",
    "df[\"FareGroup\"] = pd.qcut(df[\"Fare\"], 5, range(5))\n",
    "df = df.drop(columns = [\"Fare\"])\n",
    "\n",
    "# Cabin\n",
    "df = df.drop(columns = [\"Cabin\"])\n",
    "\n",
    "# Embarked\n",
    "df[\"Embarked\"] = df[\"Embarked\"].fillna(df[\"Embarked\"].mode()[0])\n",
    "df[\"Embarked\"] = df[\"Embarked\"].map({\"S\": 0, \"Q\": 1, \"C\":2}).fillna(0).astype(int)\n",
    "\n",
    "# Features\n",
    "features = df[[\"Pclass\", \"Sex\", \"ConnectedSurvival\", \"FareGroup\", \"Age\"]]\n",
    "df = pd.concat([df[[\"PassengerId\", \"Survived\"]], features], axis = 1)\n",
    "\n",
    "df_train = df[:len(df_train)]\n",
    "df_test = df[len(df_train):]"
   ],
   "id": "b90d8350923e5734",
   "outputs": [],
   "execution_count": 12
  },
  {
   "metadata": {
    "ExecuteTime": {
     "end_time": "2025-06-06T12:34:36.720644Z",
     "start_time": "2025-06-06T12:34:36.706119Z"
    }
   },
   "cell_type": "code",
   "source": [
    "x_train = df_train.drop(columns = [\"PassengerId\", \"Survived\"])\n",
    "y_train = df_train[\"Survived\"]\n",
    "x_test = df_test.drop(columns = [\"PassengerId\", \"Survived\"])\n",
    "\n",
    "x_train.to_pickle(\"../metadata/x_train.pkl\")\n",
    "y_train.to_pickle(\"../metadata/y_train.pkl\")\n",
    "x_test.to_pickle(\"../metadata/x_test.pkl\")"
   ],
   "id": "3c53a8dad9777a8d",
   "outputs": [],
   "execution_count": 13
  }
 ],
 "metadata": {
  "kernelspec": {
   "display_name": "Python 3",
   "language": "python",
   "name": "python3"
  },
  "language_info": {
   "codemirror_mode": {
    "name": "ipython",
    "version": 2
   },
   "file_extension": ".py",
   "mimetype": "text/x-python",
   "name": "python",
   "nbconvert_exporter": "python",
   "pygments_lexer": "ipython2",
   "version": "2.7.6"
  }
 },
 "nbformat": 4,
 "nbformat_minor": 5
}
