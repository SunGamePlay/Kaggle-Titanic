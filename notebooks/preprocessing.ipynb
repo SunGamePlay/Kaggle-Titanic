{
 "cells": [
  {
   "metadata": {},
   "cell_type": "markdown",
   "source": "# Preprocessing",
   "id": "6642953d11b99556"
  },
  {
   "cell_type": "code",
   "id": "initial_id",
   "metadata": {
    "collapsed": true,
    "ExecuteTime": {
     "end_time": "2025-06-02T10:28:37.867722Z",
     "start_time": "2025-06-02T10:28:37.718141Z"
    }
   },
   "source": [
    "import pandas as pd\n",
    "from sklearn.preprocessing import StandardScaler"
   ],
   "outputs": [],
   "execution_count": 1
  },
  {
   "metadata": {
    "ExecuteTime": {
     "end_time": "2025-06-02T10:28:37.883755Z",
     "start_time": "2025-06-02T10:28:37.871726Z"
    }
   },
   "cell_type": "code",
   "source": [
    "def preprocess_data(df):\n",
    "\n",
    "    # Name\n",
    "    df[\"Title\"] = df[\"Name\"].str.extract(\" ([A-Za-z]+)\\.\", expand = False)\n",
    "    title_mapping = {\"Mr\": 1, \"Miss\": 2, \"Mrs\": 3, \"Master\": 4}\n",
    "    df[\"Title\"] = df[\"Title\"].map(title_mapping).fillna(0).astype(int)\n",
    "\n",
    "    # Sex\n",
    "    df[\"Sex\"] = df[\"Sex\"].map({\"male\": 1, \"female\": 0}).astype(int)\n",
    "\n",
    "    # Age\n",
    "    df[\"Age\"] = df.groupby(\"Title\")[\"Age\"].transform(lambda x: x.fillna(x.median()))\n",
    "\n",
    "    # SibSp & Parch\n",
    "    df[\"FamilySize\"] = df[\"SibSp\"] + df[\"Parch\"] + 1\n",
    "\n",
    "    # Fare\n",
    "    df[\"Fare\"] = df[\"Fare\"].fillna(df[\"Fare\"].median())\n",
    "\n",
    "    # Embarked\n",
    "    df[\"Embarked\"] = df[\"Embarked\"].fillna(df[\"Embarked\"].mode()[0])\n",
    "    df[\"Embarked\"] = df[\"Embarked\"].map({\"S\": 1, \"C\": 2, \"Q\": 3}).astype(int)\n",
    "\n",
    "    # Others\n",
    "    df = df.drop(columns = [\"Name\", \"Ticket\", \"Cabin\", \"SibSp\", \"Parch\"], axis = 1, errors = \"ignore\")\n",
    "\n",
    "    return df"
   ],
   "id": "6b40e6d8912bb9b4",
   "outputs": [],
   "execution_count": 2
  },
  {
   "metadata": {
    "ExecuteTime": {
     "end_time": "2025-06-02T10:28:38.181772Z",
     "start_time": "2025-06-02T10:28:38.152688Z"
    }
   },
   "cell_type": "code",
   "source": [
    "train_df = pd.read_csv(\"../data/train.csv\")\n",
    "test_df = pd.read_csv(\"../data/test.csv\")\n",
    "\n",
    "train_df = preprocess_data(train_df)\n",
    "test_df = preprocess_data(test_df)"
   ],
   "id": "9a5e3065ad3a7641",
   "outputs": [],
   "execution_count": 3
  },
  {
   "metadata": {
    "ExecuteTime": {
     "end_time": "2025-06-02T10:28:38.354329Z",
     "start_time": "2025-06-02T10:28:38.340284Z"
    }
   },
   "cell_type": "code",
   "source": [
    "x_train = train_df.drop(columns = [\"PassengerId\", \"Survived\"], axis = 1)\n",
    "x_test = test_df.drop(\"PassengerId\", axis = 1)\n",
    "y_train = train_df[\"Survived\"]\n",
    "\n",
    "scaler = StandardScaler()\n",
    "x_train = scaler.fit_transform(x_train)\n",
    "x_test = scaler.transform(x_test)"
   ],
   "id": "5f97d93e3e1f9452",
   "outputs": [],
   "execution_count": 4
  },
  {
   "metadata": {
    "ExecuteTime": {
     "end_time": "2025-06-02T10:28:38.385909Z",
     "start_time": "2025-06-02T10:28:38.371867Z"
    }
   },
   "cell_type": "code",
   "source": [
    "train_df.to_pickle(\"../metadata/train.pkl\")\n",
    "test_df.to_pickle(\"../metadata/test.pkl\")\n",
    "pd.DataFrame(x_train).to_pickle(\"../metadata/x_train.pkl\")\n",
    "pd.DataFrame(x_test).to_pickle(\"../metadata/x_test.pkl\")\n",
    "pd.DataFrame(y_train).to_pickle(\"../metadata/y_train.pkl\")"
   ],
   "id": "5c3097940184ec3c",
   "outputs": [],
   "execution_count": 5
  }
 ],
 "metadata": {
  "kernelspec": {
   "display_name": "Python 3",
   "language": "python",
   "name": "python3"
  },
  "language_info": {
   "codemirror_mode": {
    "name": "ipython",
    "version": 2
   },
   "file_extension": ".py",
   "mimetype": "text/x-python",
   "name": "python",
   "nbconvert_exporter": "python",
   "pygments_lexer": "ipython2",
   "version": "2.7.6"
  }
 },
 "nbformat": 4,
 "nbformat_minor": 5
}
