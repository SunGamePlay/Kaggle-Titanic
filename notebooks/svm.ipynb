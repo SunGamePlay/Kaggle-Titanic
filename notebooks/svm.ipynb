{
 "cells": [
  {
   "cell_type": "code",
   "id": "initial_id",
   "metadata": {
    "collapsed": true,
    "ExecuteTime": {
     "end_time": "2025-06-02T11:53:09.436754Z",
     "start_time": "2025-06-02T11:53:08.270309Z"
    }
   },
   "source": [
    "import pandas as pd\n",
    "import numpy as np\n",
    "from sklearn.svm import SVC\n",
    "from sklearn.model_selection import cross_val_score"
   ],
   "outputs": [],
   "execution_count": 1
  },
  {
   "metadata": {
    "ExecuteTime": {
     "end_time": "2025-06-02T11:53:10.910873Z",
     "start_time": "2025-06-02T11:53:10.894312Z"
    }
   },
   "cell_type": "code",
   "source": [
    "x_train = pd.read_pickle(\"../metadata/x_train.pkl\")\n",
    "y_train = np.ravel(pd.read_pickle(\"../metadata/y_train.pkl\"))\n",
    "x_test = pd.read_pickle(\"../metadata/x_test.pkl\")"
   ],
   "id": "4124fa1a2864d5dd",
   "outputs": [],
   "execution_count": 2
  },
  {
   "metadata": {
    "ExecuteTime": {
     "end_time": "2025-06-02T11:53:12.371904Z",
     "start_time": "2025-06-02T11:53:12.300217Z"
    }
   },
   "cell_type": "code",
   "source": [
    "model = SVC(kernel = \"linear\")\n",
    "model.fit(x_train, y_train)\n",
    "scores = cross_val_score(model, x_train, y_train)\n",
    "print(f\"Accuracy: {scores.mean():.4f} (+/- {scores.std() * 1.96:.4f})\")"
   ],
   "id": "5fffd5e20b24e621",
   "outputs": [
    {
     "name": "stdout",
     "output_type": "stream",
     "text": [
      "Accuracy: 0.8249 (+/- 0.0478)\n"
     ]
    }
   ],
   "execution_count": 3
  },
  {
   "metadata": {
    "ExecuteTime": {
     "end_time": "2025-06-02T11:53:14.195203Z",
     "start_time": "2025-06-02T11:53:14.181136Z"
    }
   },
   "cell_type": "code",
   "source": [
    "y_test = model.predict(x_test)\n",
    "submission = pd.DataFrame({\n",
    "    \"PassengerId\": range(len(x_train) + 1, len(x_train) + len(x_test) + 1, 1),\n",
    "    \"Survived\": y_test\n",
    "})\n",
    "submission.to_csv(\"../outputs/submission.csv\", index = False)"
   ],
   "id": "40cc2b1fd3532fc9",
   "outputs": [],
   "execution_count": 4
  }
 ],
 "metadata": {
  "kernelspec": {
   "display_name": "Python 3",
   "language": "python",
   "name": "python3"
  },
  "language_info": {
   "codemirror_mode": {
    "name": "ipython",
    "version": 2
   },
   "file_extension": ".py",
   "mimetype": "text/x-python",
   "name": "python",
   "nbconvert_exporter": "python",
   "pygments_lexer": "ipython2",
   "version": "2.7.6"
  }
 },
 "nbformat": 4,
 "nbformat_minor": 5
}
