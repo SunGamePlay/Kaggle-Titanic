{
 "cells": [
  {
   "cell_type": "code",
   "id": "initial_id",
   "metadata": {
    "collapsed": true,
    "ExecuteTime": {
     "end_time": "2025-06-06T12:38:29.664278Z",
     "start_time": "2025-06-06T12:38:29.658768Z"
    }
   },
   "source": [
    "import pandas as pd\n",
    "import numpy as np\n",
    "from sklearn.linear_model import LogisticRegression\n",
    "from sklearn.model_selection import cross_val_score"
   ],
   "outputs": [],
   "execution_count": 5
  },
  {
   "metadata": {
    "ExecuteTime": {
     "end_time": "2025-06-06T12:38:30.560783Z",
     "start_time": "2025-06-06T12:38:30.546748Z"
    }
   },
   "cell_type": "code",
   "source": [
    "x_train = pd.read_pickle(\"../metadata/x_train.pkl\")\n",
    "y_train = np.ravel(pd.read_pickle(\"../metadata/y_train.pkl\"))\n",
    "x_test = pd.read_pickle(\"../metadata/x_test.pkl\")"
   ],
   "id": "db421e74067fb308",
   "outputs": [],
   "execution_count": 6
  },
  {
   "metadata": {
    "ExecuteTime": {
     "end_time": "2025-06-06T12:38:31.433897Z",
     "start_time": "2025-06-06T12:38:31.386803Z"
    }
   },
   "cell_type": "code",
   "source": [
    "model = LogisticRegression(max_iter = 1000)\n",
    "model.fit(x_train, y_train,)\n",
    "scores = cross_val_score(model, x_train, y_train)\n",
    "print(f\"Accuracy: {scores.mean():.4f} (+/- {scores.std() * 1.96:.4f})\")"
   ],
   "id": "aa8839b5b4f1462f",
   "outputs": [
    {
     "name": "stdout",
     "output_type": "stream",
     "text": [
      "Accuracy: 0.8182 (+/- 0.0293)\n"
     ]
    }
   ],
   "execution_count": 7
  },
  {
   "metadata": {
    "ExecuteTime": {
     "end_time": "2025-06-06T12:38:32.370336Z",
     "start_time": "2025-06-06T12:38:32.357814Z"
    }
   },
   "cell_type": "code",
   "source": [
    "y_test = model.predict(x_test).astype(int)\n",
    "submission = pd.DataFrame({\n",
    "    \"PassengerId\": range(len(x_train) + 1, len(x_train) + len(x_test) + 1, 1),\n",
    "    \"Survived\": y_test\n",
    "})\n",
    "submission.to_csv(\"../outputs/submission.csv\", index = False)"
   ],
   "id": "b0af9f4d2af50292",
   "outputs": [],
   "execution_count": 8
  }
 ],
 "metadata": {
  "kernelspec": {
   "display_name": "Python 3",
   "language": "python",
   "name": "python3"
  },
  "language_info": {
   "codemirror_mode": {
    "name": "ipython",
    "version": 2
   },
   "file_extension": ".py",
   "mimetype": "text/x-python",
   "name": "python",
   "nbconvert_exporter": "python",
   "pygments_lexer": "ipython2",
   "version": "2.7.6"
  }
 },
 "nbformat": 4,
 "nbformat_minor": 5
}
