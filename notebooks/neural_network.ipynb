{
 "cells": [
  {
   "cell_type": "code",
   "id": "initial_id",
   "metadata": {
    "collapsed": true,
    "ExecuteTime": {
     "end_time": "2025-06-06T13:13:35.721471Z",
     "start_time": "2025-06-06T13:13:35.702930Z"
    }
   },
   "source": [
    "import pandas as pd\n",
    "import tensorflow as tf\n",
    "import numpy as np\n",
    "from tensorflow.keras.layers import Input, Dense, Dropout, GaussianNoise, BatchNormalization\n",
    "from tensorflow.keras import Model\n",
    "import matplotlib.pyplot as plt\n",
    "import seaborn as sns"
   ],
   "outputs": [],
   "execution_count": 47
  },
  {
   "metadata": {
    "ExecuteTime": {
     "end_time": "2025-06-06T13:13:36.391658Z",
     "start_time": "2025-06-06T13:13:36.381636Z"
    }
   },
   "cell_type": "code",
   "source": [
    "x_train = pd.read_pickle(\"../metadata/x_train.pkl\")\n",
    "y_train = np.ravel(pd.read_pickle(\"../metadata/y_train.pkl\"))\n",
    "x_test = pd.read_pickle(\"../metadata/x_test.pkl\")"
   ],
   "id": "2f43ec87af48f684",
   "outputs": [],
   "execution_count": 48
  },
  {
   "metadata": {
    "ExecuteTime": {
     "end_time": "2025-06-06T13:13:38.809436Z",
     "start_time": "2025-06-06T13:13:37.041558Z"
    }
   },
   "cell_type": "code",
   "source": [
    "inputs = Input(shape = (5,))\n",
    "x = Dense(8, activation = \"relu\")(inputs)\n",
    "x = Dense(8, activation = \"relu\")(x)\n",
    "x = Dense(8, activation = \"relu\")(x)\n",
    "outputs = Dense(1, activation = \"sigmoid\")(x)\n",
    "model = Model(inputs = inputs, outputs = outputs)\n",
    "model.compile(loss = \"binary_crossentropy\", optimizer = \"adam\", metrics = [\"accuracy\"])\n",
    "history = model.fit(\n",
    "    x = x_train,\n",
    "    y = y_train,\n",
    "    epochs = 20,\n",
    "    verbose = 0\n",
    ")"
   ],
   "id": "b19f467b95980b41",
   "outputs": [],
   "execution_count": 49
  },
  {
   "metadata": {
    "ExecuteTime": {
     "end_time": "2025-06-06T13:13:39.691255Z",
     "start_time": "2025-06-06T13:13:39.572514Z"
    }
   },
   "cell_type": "code",
   "source": [
    "y_test = (model.predict(x_test, verbose = 0)>0.5).astype(int).flatten()\n",
    "submission = pd.DataFrame({\n",
    "    \"PassengerId\": range(len(x_train) + 1, len(x_train) + len(x_test) + 1, 1),\n",
    "    \"Survived\": y_test\n",
    "})\n",
    "submission.to_csv(\"../outputs/submission.csv\", index = False)"
   ],
   "id": "93ec1166df8511b4",
   "outputs": [],
   "execution_count": 50
  },
  {
   "metadata": {
    "ExecuteTime": {
     "end_time": "2025-06-06T13:13:41.155449Z",
     "start_time": "2025-06-06T13:13:41.148438Z"
    }
   },
   "cell_type": "code",
   "source": "history.history[\"accuracy\"][-1]",
   "id": "d37a52bcba220c60",
   "outputs": [
    {
     "data": {
      "text/plain": [
       "0.8181818127632141"
      ]
     },
     "execution_count": 51,
     "metadata": {},
     "output_type": "execute_result"
    }
   ],
   "execution_count": 51
  }
 ],
 "metadata": {
  "kernelspec": {
   "display_name": "Python 3",
   "language": "python",
   "name": "python3"
  },
  "language_info": {
   "codemirror_mode": {
    "name": "ipython",
    "version": 2
   },
   "file_extension": ".py",
   "mimetype": "text/x-python",
   "name": "python",
   "nbconvert_exporter": "python",
   "pygments_lexer": "ipython2",
   "version": "2.7.6"
  }
 },
 "nbformat": 4,
 "nbformat_minor": 5
}
